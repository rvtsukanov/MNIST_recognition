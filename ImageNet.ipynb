{
 "cells": [
  {
   "cell_type": "code",
   "execution_count": 1,
   "metadata": {},
   "outputs": [
    {
     "name": "stderr",
     "output_type": "stream",
     "text": [
      "Using TensorFlow backend.\n"
     ]
    }
   ],
   "source": [
    "import keras\n",
    "from keras.models import Sequential\n",
    "from keras.layers import Convolution2D, Conv2D, Dense\n",
    "from keras.callbacks import ModelCheckpoint, History\n",
    "from keras.datasets import mnist\n",
    "import matplotlib.pyplot as plt\n",
    "%matplotlib inline\n",
    "import numpy as np"
   ]
  },
  {
   "cell_type": "code",
   "execution_count": 2,
   "metadata": {},
   "outputs": [
    {
     "data": {
      "text/plain": [
       "(60000, 28, 28)"
      ]
     },
     "execution_count": 2,
     "metadata": {},
     "output_type": "execute_result"
    }
   ],
   "source": [
    "data = mnist.load_data()\n",
    "data[0][1].shape\n",
    "data[0][0].shape"
   ]
  },
  {
   "cell_type": "code",
   "execution_count": 3,
   "metadata": {},
   "outputs": [
    {
     "data": {
      "text/plain": [
       "2"
      ]
     },
     "execution_count": 3,
     "metadata": {},
     "output_type": "execute_result"
    },
    {
     "data": {
      "image/png": "[encoded data removed]",
      "text/plain": [
       "<matplotlib.figure.Figure at 0xfe30e10>"
      ]
     },
     "metadata": {},
     "output_type": "display_data"
    }
   ],
   "source": [
    "plt.imshow(data[0][0][16])\n",
    "data[0][1][16]"
   ]
  },
  {
   "cell_type": "code",
   "execution_count": 4,
   "metadata": {
    "collapsed": true
   },
   "outputs": [],
   "source": [
    "images = data[0][0]\n",
    "labels = data[0][1]"
   ]
  },
  {
   "cell_type": "code",
   "execution_count": 5,
   "metadata": {
    "collapsed": true
   },
   "outputs": [],
   "source": [
    "(x_train, y_train), (x_test, y_test) = mnist.load_data()"
   ]
  },
  {
   "cell_type": "code",
   "execution_count": 12,
   "metadata": {},
   "outputs": [],
   "source": [
    "x_train = np.reshape(x_train, (x_train.shape[0], 28, 28, 1))\n",
    "x_test = np.reshape(x_test, (x_test.shape[0], 28, 28, 1))\n",
    "y_train = keras.utils.to_categorical(y_train, 10)\n",
    "y_test = keras.utils.to_categorical(y_test, 10)"
   ]
  },
  {
   "cell_type": "code",
   "execution_count": 7,
   "metadata": {},
   "outputs": [
    {
     "data": {
      "text/plain": [
       "10"
      ]
     },
     "execution_count": 7,
     "metadata": {},
     "output_type": "execute_result"
    }
   ],
   "source": [
    "len(set(labels))"
   ]
  },
  {
   "cell_type": "code",
   "execution_count": 17,
   "metadata": {},
   "outputs": [
    {
     "data": {
      "text/plain": [
       "(60000, 28, 28, 1)"
      ]
     },
     "execution_count": 17,
     "metadata": {},
     "output_type": "execute_result"
    }
   ],
   "source": [
    "x_train.shape"
   ]
  },
  {
   "cell_type": "code",
   "execution_count": 78,
   "metadata": {},
   "outputs": [],
   "source": [
    "mod = Sequential()\n",
    "mod.add(Convolution2D(32, (3, 3), input_shape = (28, 28, 1)))\n",
    "mod.add(Convolution2D(64, (3, 3)))\n",
    "mod.add(MaxPooling2D())\n",
    "mod.add(Flatten())\n",
    "mod.add(Dense(30, activation='relu'))\n",
    "mod.add(Dense(10, activation='softmax'))"
   ]
  },
  {
   "cell_type": "code",
   "execution_count": 79,
   "metadata": {},
   "outputs": [
    {
     "name": "stdout",
     "output_type": "stream",
     "text": [
      "_________________________________________________________________\n",
      "Layer (type)                 Output Shape              Param #   \n",
      "=================================================================\n",
      "conv2d_29 (Conv2D)           (None, 26, 26, 32)        320       \n",
      "_________________________________________________________________\n",
      "conv2d_30 (Conv2D)           (None, 24, 24, 64)        18496     \n",
      "_________________________________________________________________\n",
      "max_pooling2d_5 (MaxPooling2 (None, 12, 12, 64)        0         \n",
      "_________________________________________________________________\n",
      "flatten_7 (Flatten)          (None, 9216)              0         \n",
      "_________________________________________________________________\n",
      "dense_18 (Dense)             (None, 30)                276510    \n",
      "_________________________________________________________________\n",
      "dense_19 (Dense)             (None, 10)                310       \n",
      "=================================================================\n",
      "Total params: 295,636\n",
      "Trainable params: 295,636\n",
      "Non-trainable params: 0\n",
      "_________________________________________________________________\n"
     ]
    }
   ],
   "source": [
    "mod.summary()"
   ]
  },
  {
   "cell_type": "code",
   "execution_count": 39,
   "metadata": {
    "collapsed": true
   },
   "outputs": [],
   "source": [
    "from keras import layers"
   ]
  },
  {
   "cell_type": "code",
   "execution_count": 55,
   "metadata": {
    "collapsed": true
   },
   "outputs": [],
   "source": [
    "from keras.layers import MaxPooling2D, Dropout, Flatten"
   ]
  },
  {
   "cell_type": "code",
   "execution_count": 72,
   "metadata": {
    "collapsed": true
   },
   "outputs": [],
   "source": [
    "from keras.optimizers import Adadelta"
   ]
  },
  {
   "cell_type": "code",
   "execution_count": 81,
   "metadata": {},
   "outputs": [],
   "source": [
    "mod.compile(loss= keras.losses.categorical_crossentropy, optimizer='Adadelta', metrics=['accuracy'])"
   ]
  },
  {
   "cell_type": "code",
   "execution_count": 82,
   "metadata": {
    "scrolled": true
   },
   "outputs": [
    {
     "name": "stdout",
     "output_type": "stream",
     "text": [
      "Train on 60000 samples, validate on 10000 samples\n",
      "Epoch 1/25\n",
      "60000/60000 [==============================] - 172s - loss: 1.4098 - acc: 0.8290 - val_loss: 0.2348 - val_acc: 0.9500\n",
      "Epoch 2/25\n",
      "60000/60000 [==============================] - 176s - loss: 0.1939 - acc: 0.9561 - val_loss: 0.1975 - val_acc: 0.9572\n",
      "Epoch 3/25\n",
      "60000/60000 [==============================] - 179s - loss: 0.1291 - acc: 0.9692 - val_loss: 0.1531 - val_acc: 0.9678\n",
      "Epoch 4/25\n",
      "60000/60000 [==============================] - 180s - loss: 0.0975 - acc: 0.9761 - val_loss: 0.1201 - val_acc: 0.9735\n",
      "Epoch 5/25\n",
      "60000/60000 [==============================] - 184s - loss: 0.0750 - acc: 0.9806 - val_loss: 0.1140 - val_acc: 0.9758\n",
      "Epoch 6/25\n",
      "60000/60000 [==============================] - 182s - loss: 0.0588 - acc: 0.9852 - val_loss: 0.1531 - val_acc: 0.9681\n",
      "Epoch 7/25\n",
      "60000/60000 [==============================] - 184s - loss: 0.0479 - acc: 0.9877 - val_loss: 0.1339 - val_acc: 0.9737\n",
      "Epoch 8/25\n",
      "60000/60000 [==============================] - 182s - loss: 0.0406 - acc: 0.9893 - val_loss: 0.1309 - val_acc: 0.9742\n",
      "Epoch 9/25\n",
      "60000/60000 [==============================] - 182s - loss: 0.0316 - acc: 0.9921 - val_loss: 0.1247 - val_acc: 0.9784\n",
      "Epoch 10/25\n",
      "60000/60000 [==============================] - 180s - loss: 0.0253 - acc: 0.9939 - val_loss: 0.1358 - val_acc: 0.9772\n",
      "Epoch 11/25\n",
      "60000/60000 [==============================] - 178s - loss: 0.0220 - acc: 0.9942 - val_loss: 0.1253 - val_acc: 0.9775\n",
      "Epoch 12/25\n",
      "60000/60000 [==============================] - 172s - loss: 0.0176 - acc: 0.9954 - val_loss: 0.1477 - val_acc: 0.9759\n",
      "Epoch 13/25\n",
      "60000/60000 [==============================] - 172s - loss: 0.0135 - acc: 0.9966 - val_loss: 0.1501 - val_acc: 0.9774\n",
      "Epoch 14/25\n",
      "60000/60000 [==============================] - 171s - loss: 0.0119 - acc: 0.9973 - val_loss: 0.1519 - val_acc: 0.9783\n",
      "Epoch 15/25\n",
      "60000/60000 [==============================] - 171s - loss: 0.0114 - acc: 0.9972 - val_loss: 0.1559 - val_acc: 0.9774\n",
      "Epoch 16/25\n",
      "60000/60000 [==============================] - 171s - loss: 0.0096 - acc: 0.9980 - val_loss: 0.1531 - val_acc: 0.9796\n",
      "Epoch 17/25\n",
      "60000/60000 [==============================] - 181s - loss: 0.0077 - acc: 0.9984 - val_loss: 0.1606 - val_acc: 0.9783\n",
      "Epoch 18/25\n",
      "60000/60000 [==============================] - 175s - loss: 0.0073 - acc: 0.9984 - val_loss: 0.1698 - val_acc: 0.9758\n",
      "Epoch 19/25\n",
      "60000/60000 [==============================] - 174s - loss: 0.0067 - acc: 0.9985 - val_loss: 0.1736 - val_acc: 0.9774\n",
      "Epoch 20/25\n",
      "60000/60000 [==============================] - 184s - loss: 0.0064 - acc: 0.9987 - val_loss: 0.1605 - val_acc: 0.9786\n",
      "Epoch 21/25\n",
      "60000/60000 [==============================] - 179s - loss: 0.0054 - acc: 0.9992 - val_loss: 0.1780 - val_acc: 0.9792\n",
      "Epoch 22/25\n",
      "60000/60000 [==============================] - 183s - loss: 0.0049 - acc: 0.9991 - val_loss: 0.1677 - val_acc: 0.9784\n",
      "Epoch 23/25\n",
      "60000/60000 [==============================] - 178s - loss: 0.0046 - acc: 0.9993 - val_loss: 0.1627 - val_acc: 0.9796\n",
      "Epoch 24/25\n",
      "60000/60000 [==============================] - 182s - loss: 0.0044 - acc: 0.9993 - val_loss: 0.1854 - val_acc: 0.9777\n",
      "Epoch 25/25\n",
      "60000/60000 [==============================] - 183s - loss: 0.0039 - acc: 0.9994 - val_loss: 0.1792 - val_acc: 0.9793\n"
     ]
    },
    {
     "data": {
      "text/plain": [
       "<keras.callbacks.History at 0x1a3cde80>"
      ]
     },
     "execution_count": 82,
     "metadata": {},
     "output_type": "execute_result"
    }
   ],
   "source": [
    "mod.fit(x_train, y_train, validation_data=(x_test, y_test), epochs=25)"
   ]
  },
  {
   "cell_type": "code",
   "execution_count": 86,
   "metadata": {},
   "outputs": [
    {
     "name": "stdout",
     "output_type": "stream",
     "text": [
      "8\n"
     ]
    },
    {
     "data": {
      "text/plain": [
       "<matplotlib.image.AxesImage at 0x1a7ddf98>"
      ]
     },
     "execution_count": 86,
     "metadata": {},
     "output_type": "execute_result"
    },
    {
     "data": {
      "image/png": "[encoded data removed]",
      "text/plain": [
       "<matplotlib.figure.Figure at 0x1a4370b8>"
      ]
     },
     "metadata": {},
     "output_type": "display_data"
    }
   ],
   "source": [
    "print(np.argmax(mod.predict(images[17].reshape(1, 28, 28, 1))))\n",
    "plt.imshow(images[17])"
   ]
  },
  {
   "cell_type": "code",
   "execution_count": 166,
   "metadata": {
    "collapsed": true
   },
   "outputs": [],
   "source": [
    "def predict(path):\n",
    "    image = preproc(path)\n",
    "    print(\"Распознано: \", np.argmax(mod.predict(img2.reshape(1, 28, 28, 1))))\n",
    "    print(\"Среди меток класса: \",mod.predict(img2.reshape(1, 28, 28, 1)) )\n",
    "    plt.imshow(image)"
   ]
  },
  {
   "cell_type": "code",
   "execution_count": 109,
   "metadata": {},
   "outputs": [],
   "source": [
    "mod.save('C:/Users/User/image_model.h5')"
   ]
  },
  {
   "cell_type": "code",
   "execution_count": 150,
   "metadata": {
    "collapsed": true
   },
   "outputs": [],
   "source": [
    "def preproc(path):\n",
    "    img = mpimg.imread(path)\n",
    "    img = (img[:, :, 0] + img[:, :, 1] + img[:, :, 2])/ 3\n",
    "    img[img == 1] = 5\n",
    "    img[img == 0] = 255\n",
    "    img[img == 5] = 0\n",
    "    return img"
   ]
  },
  {
   "cell_type": "code",
   "execution_count": 167,
   "metadata": {},
   "outputs": [
    {
     "name": "stdout",
     "output_type": "stream",
     "text": [
      "Распознано:  2\n",
      "Среди меток класса:  [[ 0.14707889  0.03071784  0.23478012  0.06481688  0.04633336  0.06078963\n",
      "   0.07876595  0.11491689  0.1413299   0.08047058]]\n"
     ]
    },
    {
     "data": {
      "image/png": "[encoded data removed]",
      "text/plain": [
       "<matplotlib.figure.Figure at 0x1ebe1e80>"
      ]
     },
     "metadata": {},
     "output_type": "display_data"
    }
   ],
   "source": [
    "predict('3.png')"
   ]
  },
  {
   "cell_type": "code",
   "execution_count": 195,
   "metadata": {},
   "outputs": [
    {
     "data": {
      "text/plain": [
       "array([[  6.54492939e-34,   2.70818977e-38,   4.09457376e-33,\n",
       "          1.00000000e+00,   4.30684352e-37,   8.56913820e-29,\n",
       "          0.00000000e+00,   1.76358336e-24,   2.85984371e-28,\n",
       "          2.27391943e-33]], dtype=float32)"
      ]
     },
     "execution_count": 195,
     "metadata": {},
     "output_type": "execute_result"
    }
   ],
   "source": [
    "mod.predict(images[321].reshape(1, 28, 28, 1))"
   ]
  },
  {
   "cell_type": "code",
   "execution_count": null,
   "metadata": {
    "collapsed": true
   },
   "outputs": [],
   "source": []
  }
 ],
 "metadata": {
  "kernelspec": {
   "display_name": "Python 3",
   "language": "python",
   "name": "python3"
  },
  "language_info": {
   "codemirror_mode": {
    "name": "ipython",
    "version": 3
   },
   "file_extension": ".py",
   "mimetype": "text/x-python",
   "name": "python",
   "nbconvert_exporter": "python",
   "pygments_lexer": "ipython3",
   "version": "3.6.1"
  }
 },
 "nbformat": 4,
 "nbformat_minor": 2
}
